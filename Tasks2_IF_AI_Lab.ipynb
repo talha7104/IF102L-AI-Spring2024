{
  "nbformat": 4,
  "nbformat_minor": 0,
  "metadata": {
    "colab": {
      "provenance": []
    },
    "kernelspec": {
      "name": "python3",
      "display_name": "Python 3"
    },
    "language_info": {
      "name": "python"
    }
  },
  "cells": [
    {
      "cell_type": "code",
      "source": [
        "# if you're using Google Colab run this cell to install extra libraries\n",
        "!pip install git+https://github.com/ML-Challenge/learntools.git"
      ],
      "metadata": {
        "colab": {
          "base_uri": "https://localhost:8080/"
        },
        "id": "jZv3-WVKklce",
        "outputId": "49f7ac7d-bdc5-422d-fc67-be62d62ef6bc"
      },
      "execution_count": null,
      "outputs": [
        {
          "output_type": "stream",
          "name": "stdout",
          "text": [
            "Collecting git+https://github.com/ML-Challenge/learntools.git\n",
            "  Cloning https://github.com/ML-Challenge/learntools.git to /tmp/pip-req-build-3tsr5pup\n",
            "  Running command git clone --filter=blob:none --quiet https://github.com/ML-Challenge/learntools.git /tmp/pip-req-build-3tsr5pup\n",
            "  Resolved https://github.com/ML-Challenge/learntools.git to commit 7789b364becf7676ae8e82bb7dd9631c841fc2c8\n",
            "  Preparing metadata (setup.py) ... \u001b[?25l\u001b[?25hdone\n",
            "Building wheels for collected packages: learntools\n",
            "  Building wheel for learntools (setup.py) ... \u001b[?25l\u001b[?25hdone\n",
            "  Created wheel for learntools: filename=learntools-0.3.4-py3-none-any.whl size=207289 sha256=d793d50ea78a5477b6bf0fbbf626733abbbbcb77e2fd2839cf390f7bc2f94a2e\n",
            "  Stored in directory: /tmp/pip-ephem-wheel-cache-4by2ot5v/wheels/f9/a1/22/8f41707716f7d976497a5c8d86ebbf3691ed78d4647c1afdb4\n",
            "Successfully built learntools\n",
            "Installing collected packages: learntools\n",
            "Successfully installed learntools-0.3.4\n"
          ]
        }
      ]
    },
    {
      "cell_type": "markdown",
      "source": [
        "# **Recap**\n",
        "\n",
        "\n",
        "---\n",
        "\n",
        "\n",
        "### ***So far, you have loaded your data and reviewed it with the following code. Run this cell to set up your coding environment where the previous step left off.***"
      ],
      "metadata": {
        "id": "7TlfWi-ixIHE"
      }
    },
    {
      "cell_type": "code",
      "source": [
        "# Code you have previously used to load data\n",
        "import pandas as pd\n",
        "\n",
        "# Path of the file to read\n",
        "iowa_file_path = '/content/drive/MyDrive/AI_IF_LAB/train.csv'\n",
        "\n",
        "home_data = pd.read_csv(iowa_file_path)\n",
        "\n",
        "# Set up code checking\n",
        "from learntools.core import binder\n",
        "binder.bind(globals())\n",
        "from learntools.machine_learning.ex3 import *\n",
        "\n",
        "print(\"Setup Complete\")"
      ],
      "metadata": {
        "colab": {
          "base_uri": "https://localhost:8080/"
        },
        "id": "08hKR2lOk-aD",
        "outputId": "f39397f8-6911-465a-a07b-2fbeb9d18430"
      },
      "execution_count": null,
      "outputs": [
        {
          "output_type": "stream",
          "name": "stdout",
          "text": [
            "Setup Complete\n"
          ]
        }
      ]
    },
    {
      "cell_type": "markdown",
      "source": [
        "# ***Task:***\n",
        "## **Step 1: Specify Prediction Target**\n",
        "\n",
        "\n",
        "---\n",
        "\n",
        "\n",
        "***Select the target variable, which corresponds to the sales price. Save this to a new variable called y. You'll need to print a list of the columns to find the name of the column you need.***"
      ],
      "metadata": {
        "id": "VLPWzPBJxQyi"
      }
    },
    {
      "cell_type": "code",
      "source": [
        "# print the list of columns in the dataset to find the name of the prediction target\n"
      ],
      "metadata": {
        "id": "YHaVjR4Exk5y"
      },
      "execution_count": null,
      "outputs": []
    },
    {
      "cell_type": "code",
      "source": [
        "y = ____\n",
        "\n",
        "# Check your answer\n",
        "step_1.check()"
      ],
      "metadata": {
        "id": "W7YKjRmtxnw6"
      },
      "execution_count": null,
      "outputs": []
    },
    {
      "cell_type": "markdown",
      "source": [
        "# **Step 2: Create X**\n",
        "### ***Now you will create a DataFrame called X holding the predictive features.***\n",
        "\n",
        "\n",
        "---\n",
        "\n",
        "\n",
        "***Since you want only some columns from the original data, you'll first create a list with the names of the columns you want in X.***\n",
        "\n",
        "\n",
        "---\n",
        "\n",
        "\n",
        "***You'll use just the following columns in the list (you can copy and paste the whole list to save some typing, though you'll still need to add quotes):***\n",
        "\n",
        "* LotArea\n",
        "* YearBuilt\n",
        "* 1stFlrSF\n",
        "* 2ndFlrSF\n",
        "* FullBath\n",
        "* BedroomAbvGr\n",
        "* TotRmsAbvGrd\n",
        "\n",
        "\n",
        "---\n",
        "\n",
        "\n",
        "***After you've created that list of features, use it to create the DataFrame that you'll use to fit the model.***"
      ],
      "metadata": {
        "id": "lyLJVDszx63s"
      }
    },
    {
      "cell_type": "code",
      "source": [
        "# Create the list of features below\n",
        "feature_names = ___\n",
        "\n",
        "# Select data corresponding to features in feature_names\n",
        "X = ____\n",
        "\n",
        "# Check your answer\n",
        "step_2.check()"
      ],
      "metadata": {
        "id": "uCM8vmxwyoeR"
      },
      "execution_count": null,
      "outputs": []
    },
    {
      "cell_type": "markdown",
      "source": [
        "# **Review Data**\n",
        "### ***Before building a model, take a quick look at X to verify it looks sensible***"
      ],
      "metadata": {
        "id": "zTQl69JN0cU2"
      }
    },
    {
      "cell_type": "code",
      "source": [
        "# Review data\n",
        "# print description or statistics from X\n",
        "#print(_)\n",
        "\n",
        "# print the top few lines\n",
        "#print(_)"
      ],
      "metadata": {
        "id": "shRNpjy00jIO"
      },
      "execution_count": null,
      "outputs": []
    },
    {
      "cell_type": "markdown",
      "source": [
        "# ***Step 3: Specify and Fit Model***\n",
        "\n",
        "\n",
        "\n",
        "---\n",
        "\n",
        "\n",
        "## ***Create a DecisionTreeRegressor and save it iowa_model. Ensure you've done the relevant import from sklearn to run this command.***\n",
        "\n",
        "\n",
        "---\n",
        "\n",
        "\n",
        "### ***Then fit the model you just created using the data in X and y that you saved above.***\n"
      ],
      "metadata": {
        "id": "A_lS9EIH0mlB"
      }
    },
    {
      "cell_type": "code",
      "source": [
        "# from _ import _\n",
        "#specify the model.\n",
        "#For model reproducibility, set a numeric value for random_state when specifying the model\n",
        "iowa_model = ____\n",
        "\n",
        "# Fit the model\n",
        "____\n",
        "\n",
        "# Check your answer\n",
        "step_3.check()"
      ],
      "metadata": {
        "id": "RDnu8XOW1EvO"
      },
      "execution_count": null,
      "outputs": []
    },
    {
      "cell_type": "markdown",
      "source": [
        "# **Step 4: Make Predictions**\n",
        "\n",
        "---\n",
        "\n",
        "\n",
        "### ***Make predictions with the model's predict command using X as the data. Save the results to a variable called predictions.***"
      ],
      "metadata": {
        "id": "SraCGwr01KG8"
      }
    },
    {
      "cell_type": "code",
      "source": [
        "predictions = ____\n",
        "print(predictions)\n",
        "\n",
        "# Check your answer\n",
        "step_4.check()"
      ],
      "metadata": {
        "id": "_VMkbAA-2aGY"
      },
      "execution_count": null,
      "outputs": []
    },
    {
      "cell_type": "markdown",
      "source": [
        "# ***Think About Your Results***\n",
        "\n",
        "\n",
        "---\n",
        "\n",
        "\n",
        "### ***Use the head method to compare the top few predictions to the actual home values (in y) for those same homes. Anything surprising?***"
      ],
      "metadata": {
        "id": "l5bsvcSd2krf"
      }
    },
    {
      "cell_type": "code",
      "source": [
        "# You can write code in this cell\n"
      ],
      "metadata": {
        "id": "gvT0a2xC2teB"
      },
      "execution_count": null,
      "outputs": []
    },
    {
      "cell_type": "markdown",
      "source": [
        "### ***It's natural to ask how accurate the model's predictions will be and how you can improve that. That will be you're next step.***"
      ],
      "metadata": {
        "id": "uY5U8Ume2wwi"
      }
    }
  ]
}