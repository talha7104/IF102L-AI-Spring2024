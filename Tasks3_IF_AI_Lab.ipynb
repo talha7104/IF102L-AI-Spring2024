{
  "nbformat": 4,
  "nbformat_minor": 0,
  "metadata": {
    "colab": {
      "provenance": []
    },
    "kernelspec": {
      "name": "python3",
      "display_name": "Python 3"
    },
    "language_info": {
      "name": "python"
    }
  },
  "cells": [
    {
      "cell_type": "code",
      "source": [
        "# if you're using Google Colab run this cell to install extra libraries\n",
        "!pip install git+https://github.com/ML-Challenge/learntools.git"
      ],
      "metadata": {
        "colab": {
          "base_uri": "https://localhost:8080/"
        },
        "id": "jZv3-WVKklce",
        "outputId": "49f7ac7d-bdc5-422d-fc67-be62d62ef6bc"
      },
      "execution_count": null,
      "outputs": [
        {
          "output_type": "stream",
          "name": "stdout",
          "text": [
            "Collecting git+https://github.com/ML-Challenge/learntools.git\n",
            "  Cloning https://github.com/ML-Challenge/learntools.git to /tmp/pip-req-build-3tsr5pup\n",
            "  Running command git clone --filter=blob:none --quiet https://github.com/ML-Challenge/learntools.git /tmp/pip-req-build-3tsr5pup\n",
            "  Resolved https://github.com/ML-Challenge/learntools.git to commit 7789b364becf7676ae8e82bb7dd9631c841fc2c8\n",
            "  Preparing metadata (setup.py) ... \u001b[?25l\u001b[?25hdone\n",
            "Building wheels for collected packages: learntools\n",
            "  Building wheel for learntools (setup.py) ... \u001b[?25l\u001b[?25hdone\n",
            "  Created wheel for learntools: filename=learntools-0.3.4-py3-none-any.whl size=207289 sha256=d793d50ea78a5477b6bf0fbbf626733abbbbcb77e2fd2839cf390f7bc2f94a2e\n",
            "  Stored in directory: /tmp/pip-ephem-wheel-cache-4by2ot5v/wheels/f9/a1/22/8f41707716f7d976497a5c8d86ebbf3691ed78d4647c1afdb4\n",
            "Successfully built learntools\n",
            "Installing collected packages: learntools\n",
            "Successfully installed learntools-0.3.4\n"
          ]
        }
      ]
    },
    {
      "cell_type": "markdown",
      "source": [
        "# **Recap**\n",
        "## **You've built a model. In this exercise you will test how good your model is.**\n",
        "\n",
        "### ***Run the cell below to set up your coding environment where the previous exercise left off.***"
      ],
      "metadata": {
        "id": "dmTw1y1L248P"
      }
    },
    {
      "cell_type": "code",
      "source": [
        "# Code you have previously used to load data\n",
        "import pandas as pd\n",
        "from sklearn.tree import DecisionTreeRegressor\n",
        "\n",
        "# Path of the file to read\n",
        "iowa_file_path = '/content/drive/MyDrive/AI_IF_LAB/train.csv'\n",
        "home_data = pd.read_csv(iowa_file_path)\n",
        "y = home_data.SalePrice\n",
        "feature_columns = ['LotArea', 'YearBuilt', '1stFlrSF', '2ndFlrSF', 'FullBath', 'BedroomAbvGr', 'TotRmsAbvGrd']\n",
        "X = home_data[feature_columns]\n",
        "\n",
        "# Specify Model\n",
        "iowa_model = DecisionTreeRegressor()\n",
        "# Fit Model\n",
        "iowa_model.fit(X, y)\n",
        "\n",
        "print(\"First in-sample predictions:\", iowa_model.predict(X.head()))\n",
        "print(\"Actual target values for those homes:\", y.head().tolist())\n",
        "\n",
        "# Set up code checking\n",
        "from learntools.core import binder\n",
        "binder.bind(globals())\n",
        "from learntools.machine_learning.ex4 import *\n",
        "print(\"Setup Complete\")"
      ],
      "metadata": {
        "id": "KmFeWj_qsUOF"
      },
      "execution_count": null,
      "outputs": []
    },
    {
      "cell_type": "markdown",
      "source": [
        "# ***Task***\n",
        "## **Step 1: Split Your Data**\n",
        "### **Use the train_test_split function to split up your data.**\n",
        "\n",
        "\n",
        "---\n",
        "\n",
        "\n",
        "***Give it the argument random_state=1 so the check functions know what to expect when verifying your code.***\n",
        "\n",
        "\n",
        "---\n",
        "\n",
        "\n",
        "### *Recall, your features are loaded in the DataFrame X and your target is loaded in y.*"
      ],
      "metadata": {
        "id": "bTKb1M7RGIrA"
      }
    },
    {
      "cell_type": "code",
      "source": [
        "# Import the train_test_split function and uncomment\n",
        "# from _ import _\n",
        "\n",
        "# fill in and uncomment\n",
        "# train_X, val_X, train_y, val_y = ____\n",
        "\n",
        "# Check your answer\n",
        "step_1.check()"
      ],
      "metadata": {
        "id": "c6HnLL6OGnEH"
      },
      "execution_count": null,
      "outputs": []
    },
    {
      "cell_type": "markdown",
      "source": [
        "# ***Step 2: Specify and Fit the Model***\n",
        "\n",
        "---\n",
        "\n",
        "\n",
        "### ***Create a DecisionTreeRegressor model and fit it to the relevant data. Set random_state to 1 again when creating the model.***"
      ],
      "metadata": {
        "id": "OUmRHrFMGv38"
      }
    },
    {
      "cell_type": "code",
      "source": [
        "# You imported DecisionTreeRegressor in your last exercise\n",
        "# and that code has been copied to the setup code above. So, no need to\n",
        "# import it again\n",
        "\n",
        "# Specify the model\n",
        "iowa_model = ____\n",
        "\n",
        "# Fit iowa_model with the training data.\n",
        "____\n",
        "\n",
        "# Check your answer\n",
        "step_2.check()"
      ],
      "metadata": {
        "id": "BaAfY8fZG2KF"
      },
      "execution_count": null,
      "outputs": []
    },
    {
      "cell_type": "markdown",
      "source": [
        "# ***Step 3: Make Predictions with Validation data***"
      ],
      "metadata": {
        "id": "chQEkwnDG8yg"
      }
    },
    {
      "cell_type": "code",
      "source": [
        "# Predict with all validation observations\n",
        "val_predictions = ____\n",
        "\n",
        "# Check your answer\n",
        "step_3.check()"
      ],
      "metadata": {
        "id": "i0M9igfxG_3d"
      },
      "execution_count": null,
      "outputs": []
    },
    {
      "cell_type": "markdown",
      "source": [
        "## **Inspect your predictions and actual values from validation data.**"
      ],
      "metadata": {
        "id": "4a816up4IViD"
      }
    },
    {
      "cell_type": "code",
      "source": [
        "# print the top few validation predictions\n",
        "print(____)\n",
        "# print the top few actual prices from validation data\n",
        "print(____)"
      ],
      "metadata": {
        "id": "PMuRXIJSIadB"
      },
      "execution_count": null,
      "outputs": []
    },
    {
      "cell_type": "markdown",
      "source": [
        "***What do you notice that is different from what you saw with in-sample predictions (which are printed after the top code cell in this page).***\n",
        "\n",
        "***Do you remember why validation predictions differ from in-sample (or training) predictions? This is an important idea from the last lesson.***"
      ],
      "metadata": {
        "id": "qSM3LUzaIdzJ"
      }
    },
    {
      "cell_type": "markdown",
      "source": [
        "## **Step 4: Calculate the Mean Absolute Error in Validation Data**"
      ],
      "metadata": {
        "id": "9X4vMMM0Iylr"
      }
    },
    {
      "cell_type": "code",
      "source": [
        "from sklearn.metrics import mean_absolute_error\n",
        "val_mae = ____\n",
        "\n",
        "# uncomment following line to see the validation_mae\n",
        "#print(val_mae)\n",
        "\n",
        "# Check your answer\n",
        "step_4.check()"
      ],
      "metadata": {
        "id": "c_d0wEiKI1rg"
      },
      "execution_count": null,
      "outputs": []
    },
    {
      "cell_type": "markdown",
      "source": [
        "### ***Is that MAE good? There isn't a general rule for what values are good that applies across applications. But you'll see how to use (and improve) this number in the next step.***"
      ],
      "metadata": {
        "id": "2Vf1TG-LKUDo"
      }
    }
  ]
}