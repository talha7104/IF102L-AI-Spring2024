{
  "nbformat": 4,
  "nbformat_minor": 0,
  "metadata": {
    "colab": {
      "provenance": []
    },
    "kernelspec": {
      "name": "python3",
      "display_name": "Python 3"
    },
    "language_info": {
      "name": "python"
    }
  },
  "cells": [
    {
      "cell_type": "code",
      "source": [
        "# if you're using Google Colab run this cell to install extra libraries\n",
        "!pip install git+https://github.com/ML-Challenge/learntools.git"
      ],
      "metadata": {
        "colab": {
          "base_uri": "https://localhost:8080/"
        },
        "id": "jZv3-WVKklce",
        "outputId": "49f7ac7d-bdc5-422d-fc67-be62d62ef6bc"
      },
      "execution_count": 1,
      "outputs": [
        {
          "output_type": "stream",
          "name": "stdout",
          "text": [
            "Collecting git+https://github.com/ML-Challenge/learntools.git\n",
            "  Cloning https://github.com/ML-Challenge/learntools.git to /tmp/pip-req-build-3tsr5pup\n",
            "  Running command git clone --filter=blob:none --quiet https://github.com/ML-Challenge/learntools.git /tmp/pip-req-build-3tsr5pup\n",
            "  Resolved https://github.com/ML-Challenge/learntools.git to commit 7789b364becf7676ae8e82bb7dd9631c841fc2c8\n",
            "  Preparing metadata (setup.py) ... \u001b[?25l\u001b[?25hdone\n",
            "Building wheels for collected packages: learntools\n",
            "  Building wheel for learntools (setup.py) ... \u001b[?25l\u001b[?25hdone\n",
            "  Created wheel for learntools: filename=learntools-0.3.4-py3-none-any.whl size=207289 sha256=d793d50ea78a5477b6bf0fbbf626733abbbbcb77e2fd2839cf390f7bc2f94a2e\n",
            "  Stored in directory: /tmp/pip-ephem-wheel-cache-4by2ot5v/wheels/f9/a1/22/8f41707716f7d976497a5c8d86ebbf3691ed78d4647c1afdb4\n",
            "Successfully built learntools\n",
            "Installing collected packages: learntools\n",
            "Successfully installed learntools-0.3.4\n"
          ]
        }
      ]
    },
    {
      "cell_type": "code",
      "source": [
        "# Set up code checking\n",
        "from learntools.core import binder\n",
        "binder.bind(globals())\n",
        "from learntools.machine_learning.ex2 import *\n",
        "print(\"Setup Complete\")"
      ],
      "metadata": {
        "colab": {
          "base_uri": "https://localhost:8080/"
        },
        "id": "08hKR2lOk-aD",
        "outputId": "f39397f8-6911-465a-a07b-2fbeb9d18430"
      },
      "execution_count": 2,
      "outputs": [
        {
          "output_type": "stream",
          "name": "stdout",
          "text": [
            "Setup Complete\n"
          ]
        }
      ]
    },
    {
      "cell_type": "markdown",
      "source": [
        "## **This Task will test your ability to read a data file and understand statistics about the data.**\n",
        "\n",
        "***In later Tasks, you will apply techniques to filter the data, build a machine learning model, and iteratively improve your model.***\n",
        "\n",
        "\n",
        "---\n",
        "\n",
        "\n",
        "The course Task use data from Melbourne. To ensure you can apply these\n",
        "techniques on your own, you will have to apply them to a new dataset **(with house prices from Iowa).**t\n",
        "\n",
        "## The Task use a \"notebook\" coding environment. :"
      ],
      "metadata": {
        "id": "FJEXDtSY4R5q"
      }
    },
    {
      "cell_type": "markdown",
      "source": [
        "# **Step 1: Loading Data**\n",
        "\n",
        "***Read the Iowa data file into a Pandas DataFrame called home_data.***"
      ],
      "metadata": {
        "id": "rgxqNZua9XvJ"
      }
    },
    {
      "cell_type": "code",
      "source": [
        "import pandas as pd\n",
        "\n",
        "# Path of the file to read\n",
        "iowa_file_path = '/content/drive/MyDrive/AI_IF_LAB/train.csv'\n",
        "\n",
        "# Fill in the line below to read the file into a variable home_data\n",
        "home_data = _________\n",
        "\n",
        "# Call line below with no argument to check that you've loaded the data correctly\n",
        "step_1.check()"
      ],
      "metadata": {
        "colab": {
          "base_uri": "https://localhost:8080/",
          "height": 46
        },
        "id": "0u-yI8bH9ifg",
        "outputId": "0412e354-fa8e-45fb-efaf-fb4b32a043af"
      },
      "execution_count": 4,
      "outputs": [
        {
          "output_type": "display_data",
          "data": {
            "text/plain": [
              "<IPython.core.display.Javascript object>"
            ],
            "application/javascript": [
              "parent.postMessage({\"jupyterEvent\": \"custom.exercise_interaction\", \"data\": {\"outcomeType\": 1, \"valueTowardsCompletion\": 0.5, \"interactionType\": 1, \"questionType\": 1, \"questionId\": \"1_LoadHomeData\", \"learnToolsVersion\": \"0.3.4\", \"failureMessage\": \"\", \"exceptionClass\": \"\", \"trace\": \"\"}}, \"*\")"
            ]
          },
          "metadata": {}
        },
        {
          "output_type": "display_data",
          "data": {
            "text/plain": [
              "Correct"
            ],
            "text/markdown": "<span style=\"color:#33cc33\">Correct</span>"
          },
          "metadata": {}
        }
      ]
    },
    {
      "cell_type": "markdown",
      "source": [
        "# Step 2: Review The Data\n",
        "**Use the command you learned to view summary statistics of the data. Then fill in variables to answer the following questions**"
      ],
      "metadata": {
        "id": "NC0eg0cd9oj1"
      }
    },
    {
      "cell_type": "code",
      "source": [
        "# Print summary statistics in next line\n",
        "----"
      ],
      "metadata": {
        "id": "bam9cpcOLoAm"
      },
      "execution_count": null,
      "outputs": []
    },
    {
      "cell_type": "code",
      "source": [
        "# What is the average lot size (rounded to nearest integer)?\n",
        "avg_lot_size = ------\n",
        "# As of today, how old is the newest home (current year - the date in which it was built)\n",
        "newest_home_age = -----------\n",
        "\n",
        "# Call line below with no argument to check that you've loaded the data correctly\n",
        "step_2.check()"
      ],
      "metadata": {
        "id": "xzg0A35ILtOD"
      },
      "execution_count": null,
      "outputs": []
    }
  ]
}